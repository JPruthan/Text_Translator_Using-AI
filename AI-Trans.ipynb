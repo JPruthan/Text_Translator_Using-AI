{
 "cells": [
  {
   "cell_type": "code",
   "execution_count": 25,
   "id": "471966f9-3fce-473b-8521-090060bd7c41",
   "metadata": {},
   "outputs": [],
   "source": [
    "from tkinter import *\n",
    "from tkinter import Tk, Label, Text, WORD\n",
    "from tkinter import ttk\n",
    "from deep_translator import GoogleTranslator\n",
    "from googletrans import Translator,LANGUAGES"
   ]
  },
  {
   "cell_type": "code",
   "execution_count": 26,
   "id": "5c991e6e-cd2d-4e91-bd24-2940fe0f47be",
   "metadata": {},
   "outputs": [
    {
     "data": {
      "text/plain": [
       "''"
      ]
     },
     "execution_count": 26,
     "metadata": {},
     "output_type": "execute_result"
    }
   ],
   "source": [
    "root = Tk()\n",
    "root.geometry('1100x320')\n",
    "root.resizable(0, 0)\n",
    "root['bg'] = 'skyblue'\n",
    "root.title('Language Translator Using AI')"
   ]
  },
  {
   "cell_type": "code",
   "execution_count": 27,
   "id": "5519c989-c25a-4558-b190-9885038deb85",
   "metadata": {},
   "outputs": [],
   "source": [
    "Label(root, text=\"Language Translator\", font=\"Arial 20 bold\").pack()\n",
    "Label(root, text=\"Enter Text\", font=\"Arial 13 bold\", bg=\"white smoke\").place(x=165, y=90)\n",
    "\n",
    "Input_text = Entry(root, width=60)\n",
    "Input_text.place(x=30, y=130)"
   ]
  },
  {
   "cell_type": "code",
   "execution_count": 28,
   "id": "88c00d8d-993e-4106-8d66-0a60f10687ce",
   "metadata": {},
   "outputs": [],
   "source": [
    "Label(root, text=\"Output\", font=\"Arial 13 bold\", bg=\"white smoke\").place(x=780, y=90)\n",
    "Output_text = Text(root, font=\"arial 10\", height=11, wrap=WORD, padx=5, pady=5, width=50)\n",
    "Output_text.place(x=700, y=180)"
   ]
  },
  {
   "cell_type": "code",
   "execution_count": 30,
   "id": "8c09e618-6b03-4bee-991a-af89eab9fa93",
   "metadata": {},
   "outputs": [],
   "source": [
    "languages_dict = GoogleTranslator().get_supported_languages(as_dict=True)\n",
    "language_names = list(languages_dict.values())"
   ]
  },
  {
   "cell_type": "code",
   "execution_count": 24,
   "id": "af06924e-6a3a-4c62-a7ea-ce8344a85c6c",
   "metadata": {},
   "outputs": [],
   "source": [
    "language=list(LANGUAGES.values())\n",
    "dest_lang = ttk.Combobox(root, values=language_names, width=22)\n",
    "dest_lang.place(x=130, y=160)\n",
    "dest_lang.set(\"Choose Language\")\n",
    "\n",
    "\n",
    "def Translate():\n",
    "    input_text = Input_text.get()\n",
    "\n",
    "    if not input_text:\n",
    "        Output_text.delete(1.0, END)\n",
    "        Output_text.insert(END, \"Please enter some text to translate\")\n",
    "        return\n",
    "\n",
    "   \n",
    "    dest_language_name = dest_lang.get()\n",
    "    dest_language_code = None\n",
    "\n",
    "    \n",
    "    for code, name in languages_dict.items():\n",
    "        if name == dest_language_name:\n",
    "            dest_language_code = code\n",
    "            break\n",
    "\n",
    "    if not dest_language_code:\n",
    "        Output_text.delete(1.0, END)\n",
    "        Output_text.insert(END, \"Please select a valid language\")\n",
    "        return\n",
    "\n",
    "    try:\n",
    "        # Use deep_translator to translate the text\n",
    "        translated = GoogleTranslator(source='auto', target=dest_language_code).translate(input_text)\n",
    "        Output_text.delete(1.0, END)\n",
    "        Output_text.insert(END, translated)\n",
    "    except Exception as e:\n",
    "        Output_text.delete(1.0, END)\n",
    "        Output_text.insert(END, f\"Error occurred during translation: {str(e)}\")\n",
    "\n",
    "\n",
    "# Create a button for translation\n",
    "trans_btn = Button(root, text=\"Translate\", font=\"arial 12 bold\", pady=5, command=Translate, bg=\"pink\", activebackground=\"Green\")\n",
    "trans_btn.place(x=445, y=180)\n",
    "\n",
    "root.mainloop()"
   ]
  },
  {
   "cell_type": "code",
   "execution_count": null,
   "id": "d186c691-ef51-474a-ac27-9be99ba9885a",
   "metadata": {},
   "outputs": [],
   "source": []
  }
 ],
 "metadata": {
  "kernelspec": {
   "display_name": "Python 3 (ipykernel)",
   "language": "python",
   "name": "python3"
  },
  "language_info": {
   "codemirror_mode": {
    "name": "ipython",
    "version": 3
   },
   "file_extension": ".py",
   "mimetype": "text/x-python",
   "name": "python",
   "nbconvert_exporter": "python",
   "pygments_lexer": "ipython3",
   "version": "3.12.3"
  }
 },
 "nbformat": 4,
 "nbformat_minor": 5
}
